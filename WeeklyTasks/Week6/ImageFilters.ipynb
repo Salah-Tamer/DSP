{
 "cells": [
  {
   "cell_type": "code",
   "execution_count": 4,
   "id": "7b16c07b",
   "metadata": {},
   "outputs": [],
   "source": [
    "import cv2\n",
    "import numpy as np\n",
    "\n",
    "image = cv2.imread('bright.jpg')\n",
    "cv2.imshow('Original Image', image)\n",
    "\n",
    "\n",
    "gray_image = cv2.cvtColor(image, cv2.COLOR_BGR2GRAY)\n",
    "cropped_image = image[50:200, 50:200]\n",
    "blurred = cv2.GaussianBlur(image, (15, 15), 0)\n",
    "kernel_sharpening = np.array([[-1, -1, -1], [-1,  9, -1], [-1, -1, -1]])\n",
    "sharpened_image = cv2.filter2D(image, -1, kernel_sharpening)\n",
    "\n",
    "edges = cv2.Canny(gray_image, 100, 200)\n",
    "\n",
    "\n",
    "def resize_image(image, width=400, height=400):\n",
    "    return cv2.resize(image, (width, height))\n",
    "\n",
    "cv2.imshow('Original Image', resize_image(image))\n",
    "cv2.imshow('Grayscale Image', resize_image(gray_image))\n",
    "cv2.imshow('Cropped Image', resize_image(cropped_image))\n",
    "cv2.imshow('Sharpened Image', resize_image(sharpened_image))\n",
    "cv2.imshow('Edge Detection', resize_image(edges))\n",
    "cv2.imshow('blurred Image', resize_image(blurred))\n",
    "\n",
    "cv2.waitKey(0)\n",
    "cv2.destroyAllWindows()"
   ]
  }
 ],
 "metadata": {
  "kernelspec": {
   "display_name": "Python 3",
   "language": "python",
   "name": "python3"
  },
  "language_info": {
   "codemirror_mode": {
    "name": "ipython",
    "version": 3
   },
   "file_extension": ".py",
   "mimetype": "text/x-python",
   "name": "python",
   "nbconvert_exporter": "python",
   "pygments_lexer": "ipython3",
   "version": "3.13.3"
  }
 },
 "nbformat": 4,
 "nbformat_minor": 5
}
