{
 "cells": [
  {
   "cell_type": "code",
   "execution_count": null,
   "id": "095a7902",
   "metadata": {},
   "outputs": [],
   "source": [
    "import librosa\n",
    "import numpy as np\n",
    "import soundfile as sf\n",
    "import matplotlib.pyplot as plt\n",
    "\n",
    "y, sr = librosa.load('noisy_audio.wav')\n",
    "print(y.shape)\n",
    "\n",
    "D = librosa.stft(y)\n",
    "magnitude = np.abs(D)\n",
    "noise_level = np.mean(magnitude[:, :1000])\n",
    "\n",
    "cleaned_magnitude = np.maximum(magnitude - noise_level, 0)\n",
    "cleaned_D = cleaned_magnitude * np.exp(1j * np.angle(D))\n",
    "cleaned_audio = librosa.istft(cleaned_D)\n",
    "\n",
    "sf.write('cleaned_audio.wav', cleaned_audio, sr)\n",
    "\n",
    "plt.subplot(2, 1, 1)\n",
    "plt.title('Original Audio')\n",
    "plt.plot(y)\n",
    "plt.subplot(2, 1, 2)\n",
    "plt.title('Cleaned Audio')\n",
    "plt.plot(cleaned_audio)\n",
    "\n",
    "plt.show()"
   ]
  }
 ],
 "metadata": {
  "kernelspec": {
   "display_name": "Python 3",
   "language": "python",
   "name": "python3"
  },
  "language_info": {
   "codemirror_mode": {
    "name": "ipython",
    "version": 3
   },
   "file_extension": ".py",
   "mimetype": "text/x-python",
   "name": "python",
   "nbconvert_exporter": "python",
   "pygments_lexer": "ipython3",
   "version": "3.13.3"
  }
 },
 "nbformat": 4,
 "nbformat_minor": 5
}
