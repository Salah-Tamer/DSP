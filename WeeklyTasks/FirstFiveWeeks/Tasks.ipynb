{
 "cells": [
  {
   "cell_type": "markdown",
   "id": "c1f324c0",
   "metadata": {},
   "source": [
    "## Task 2: Continuous Signals"
   ]
  },
  {
   "cell_type": "code",
   "execution_count": null,
   "id": "2dadf44a-3c13-4fe9-8e13-2acfe3e7f978",
   "metadata": {},
   "outputs": [],
   "source": [
    "import numpy as np\n",
    "import matplotlib.pyplot as plt\n",
    "\n",
    "\n",
    "t = np.linspace(-5, 5, 1000)\n",
    "u_n = np.heaviside(t, 1)\n",
    "r_n = np.maximum(0, t)\n",
    "\n",
    "# Plot Signals\n",
    "plt.figure(figsize=(15, 5))\n",
    "\n",
    "# Plot Unit Impulse Signal as a Single Line (Continuous)\n",
    "plt.subplot(1, 3, 1)\n",
    "plt.plot([0, 0], [0, 1], 'b-', linewidth=2)\n",
    "plt.title(\"Unit Impulse Signal (Continuous)\")\n",
    "plt.xlabel('t')\n",
    "plt.ylabel('Amplitude')\n",
    "plt.grid(True)\n",
    "plt.xlim(-5, 5)\n",
    "plt.ylim(0, 1.1)\n",
    "\n",
    "# Plot Unit Step Signal in Continuous Form\n",
    "plt.subplot(1, 3, 2)\n",
    "plt.plot(t, u_n, 'g', drawstyle='steps-post')\n",
    "plt.title(\"Unit Step Signal (Continuous)\")\n",
    "plt.xlabel('t')\n",
    "plt.ylabel('Amplitude')\n",
    "plt.grid(True)\n",
    "\n",
    "# Plot Ramp Signal in Continuous Form\n",
    "plt.subplot(1, 3, 3)\n",
    "plt.plot(t, r_n, drawstyle='steps-post')\n",
    "plt.title(\"Ramp Signal (Continuous)\")\n",
    "plt.xlabel('t')\n",
    "plt.ylabel('Amplitude')\n",
    "plt.grid(True)\n",
    "\n",
    "plt.tight_layout()\n",
    "plt.show()"
   ]
  },
  {
   "cell_type": "markdown",
   "id": "ed3a8d8c",
   "metadata": {},
   "source": [
    "## Task 3, 4: Image Processing"
   ]
  },
  {
   "cell_type": "code",
   "execution_count": 3,
   "id": "4a9c2770-a652-4cae-a3f0-b3e2df84d0d9",
   "metadata": {},
   "outputs": [],
   "source": [
    "import cv2\n",
    "\n",
    "# Load the image\n",
    "image = cv2.imread('bird.jpeg') \n",
    "\n",
    "cv2.imshow('Original Image', image)\n",
    "cv2.waitKey(0)  \n",
    "cv2.destroyAllWindows()"
   ]
  },
  {
   "cell_type": "code",
   "execution_count": 4,
   "id": "61beca1e-b9a2-473d-a052-32b4a78d363d",
   "metadata": {},
   "outputs": [],
   "source": [
    "#Convert Image to Grayscale   \n",
    "gray_image = cv2.cvtColor(image, cv2.COLOR_BGR2GRAY)\n",
    "\n",
    "cv2.imshow('Grayscale Image', gray_image)\n",
    "cv2.waitKey(0)\n",
    "cv2.destroyAllWindows()"
   ]
  },
  {
   "cell_type": "code",
   "execution_count": 5,
   "id": "1ea19e91-6dc4-487f-8fa2-a04cda5ed2f0",
   "metadata": {},
   "outputs": [],
   "source": [
    "#Convert Grayscale Image to Binary \n",
    "gray_image = cv2.cvtColor(image, cv2.COLOR_BGR2GRAY)\n",
    "_, binary_image = cv2.threshold(gray_image, 127, 255, cv2.THRESH_BINARY)\n",
    "\n",
    "cv2.imshow('Binary Image', binary_image)\n",
    "cv2.waitKey(0)\n",
    "cv2.destroyAllWindows()"
   ]
  },
  {
   "cell_type": "code",
   "execution_count": 6,
   "id": "d371fb96-eb57-4184-9954-89e46748f6d9",
   "metadata": {},
   "outputs": [],
   "source": [
    "#Convert BGR to RGB \n",
    "rgb_image = cv2.cvtColor(image, cv2.COLOR_BGR2RGB)\n",
    "\n",
    "cv2.imshow('RGB Image', rgb_image)\n",
    "cv2.waitKey(0)\n",
    "cv2.destroyAllWindows()"
   ]
  },
  {
   "cell_type": "code",
   "execution_count": 7,
   "id": "48b0fdf1-8923-4e4c-ae20-be9e446d88f9",
   "metadata": {},
   "outputs": [],
   "source": [
    "# Split the image into its RGB channels and  Merge the channels back\n",
    "B, G, R = cv2.split(image)\n",
    "\n",
    "cv2.imshow('Blue Channel', B)\n",
    "cv2.imshow('Green Channel', G)\n",
    "cv2.imshow('Red Channel', R)\n",
    "cv2.waitKey(0)\n",
    "cv2.destroyAllWindows()\n",
    "\n",
    "merged_image = cv2.merge((B, G, R))\n",
    "\n",
    "cv2.imshow('Merged Image', merged_image)\n",
    "cv2.waitKey(0)\n",
    "cv2.destroyAllWindows()"
   ]
  },
  {
   "cell_type": "code",
   "execution_count": null,
   "id": "205243e3-5814-4711-948d-32c9c2dcbc96",
   "metadata": {},
   "outputs": [],
   "source": [
    "# HSV image into H, S, V channels\n",
    "hsv_img = cv2.cvtColor(image, cv2.COLOR_BGR2HSV)\n",
    "cv2.imshow(\"HSV_img\", hsv_img)\n",
    "\n",
    "H = hsv_img[:, :, 0]  \n",
    "S = hsv_img[:, :, 1]  \n",
    "V = hsv_img[:, :, 2]  \n",
    "\n",
    "cv2.imshow(\"Hue\", H)\n",
    "cv2.imshow(\"Saturation\", S)\n",
    "cv2.imshow(\"Value\", V)\n",
    "cv2.waitKey(0)\n",
    "cv2.destroyAllWindows()"
   ]
  },
  {
   "cell_type": "code",
   "execution_count": null,
   "id": "b2a580c3-a7a8-485d-b799-5798b2bd725f",
   "metadata": {},
   "outputs": [],
   "source": [
    "# Resizing\n",
    "half_img = cv2.resize(image, (0, 0), fx=0.5, fy=0.5)\n",
    "cv2.imshow('original size', image)\n",
    "cv2.imshow('half size', half_img)\n",
    "cv2.waitKey(0)\n",
    "cv2.destroyAllWindows()"
   ]
  },
  {
   "cell_type": "code",
   "execution_count": null,
   "id": "8f9eb93f",
   "metadata": {},
   "outputs": [],
   "source": [
    "# Rotate Image\n",
    "rotated_img = cv2.rotate(image, cv2.ROTATE_90_CLOCKWISE)\n",
    "cv2.imshow(\"rotated img\", rotated_img)\n",
    "cv2.waitKey(0)\n",
    "cv2.destroyAllWindows()"
   ]
  },
  {
   "cell_type": "code",
   "execution_count": null,
   "id": "cf203acb",
   "metadata": {},
   "outputs": [],
   "source": [
    "# Flipping\n",
    "flipped_img = cv2.flip(image, flipCode=0)\n",
    "cv2.imshow(\"flipped img\", flipped_img)\n",
    "cv2.waitKey(0)\n",
    "cv2.destroyAllWindows()"
   ]
  },
  {
   "cell_type": "code",
   "execution_count": null,
   "id": "60c0428b",
   "metadata": {},
   "outputs": [],
   "source": [
    "# Inversion\n",
    "gray_img = cv2.imread('bird.jpeg', 0)\n",
    "inv_img = cv2.bitwise_not(gray_image)\n",
    "cv2.imshow('original img', image)\n",
    "cv2.imshow('inversed', inv_img)\n",
    "cv2.waitKey(0)\n",
    "cv2.destroyAllWindows()"
   ]
  }
 ],
 "metadata": {
  "kernelspec": {
   "display_name": "Python 3",
   "language": "python",
   "name": "python3"
  },
  "language_info": {
   "codemirror_mode": {
    "name": "ipython",
    "version": 3
   },
   "file_extension": ".py",
   "mimetype": "text/x-python",
   "name": "python",
   "nbconvert_exporter": "python",
   "pygments_lexer": "ipython3",
   "version": "3.13.3"
  }
 },
 "nbformat": 4,
 "nbformat_minor": 5
}
