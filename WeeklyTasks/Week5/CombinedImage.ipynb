{
 "cells": [
  {
   "cell_type": "code",
   "execution_count": 1,
   "id": "bdfb6aa3",
   "metadata": {},
   "outputs": [],
   "source": [
    "import cv2\n",
    "import numpy as np\n",
    "\n",
    "image = cv2.imread('moon.png')\n",
    "\n",
    "new_width, new_height = 400, 400\n",
    "image_resized = cv2.resize(image, (new_width, new_height))\n",
    "\n",
    "inverted_image = 255 - image_resized\n",
    "rotated_image = cv2.rotate(inverted_image, cv2.ROTATE_90_COUNTERCLOCKWISE)\n",
    "rotated_image_resized = cv2.resize(rotated_image, (new_width, new_height))\n",
    "combined_image = np.hstack((image_resized, rotated_image_resized))\n",
    "\n",
    "cv2.imshow(\"Combined Image\", combined_image)\n",
    "\n",
    "cv2.waitKey(0)\n",
    "cv2.destroyAllWindows()"
   ]
  }
 ],
 "metadata": {
  "kernelspec": {
   "display_name": "Python 3",
   "language": "python",
   "name": "python3"
  },
  "language_info": {
   "codemirror_mode": {
    "name": "ipython",
    "version": 3
   },
   "file_extension": ".py",
   "mimetype": "text/x-python",
   "name": "python",
   "nbconvert_exporter": "python",
   "pygments_lexer": "ipython3",
   "version": "3.13.3"
  }
 },
 "nbformat": 4,
 "nbformat_minor": 5
}
