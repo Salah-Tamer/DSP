{
 "cells": [
  {
   "cell_type": "markdown",
   "id": "80925c39-922f-4977-afe1-2f93e7710d3c",
   "metadata": {},
   "source": [
    "# Extracting frames from the video"
   ]
  },
  {
   "cell_type": "code",
   "execution_count": 1,
   "id": "d34b40ed-b174-41b7-94c0-34506aea67a2",
   "metadata": {},
   "outputs": [],
   "source": [
    "import cv2\n",
    "import os\n",
    "\n",
    "video = cv2.VideoCapture('video.mp4')  \n",
    "fps = video.get(cv2.CAP_PROP_FPS) \n",
    "\n",
    "if not os.path.exists('frames'):\n",
    "    os.makedirs('frames')\n",
    "\n",
    "frame_num = 0\n",
    "while True:\n",
    "    ret, frame = video.read()\n",
    "    if not ret:\n",
    "        break\n",
    "    filename = f'frames/frame_{frame_num:03d}.jpg'\n",
    "    cv2.imwrite(filename, frame)\n",
    "    frame_num += 1\n",
    "\n",
    "video.release()"
   ]
  },
  {
   "cell_type": "markdown",
   "id": "23ce6bbc-d8cd-4337-b489-a86ec626028c",
   "metadata": {},
   "source": [
    "# Combining the frames back and writing on them"
   ]
  },
  {
   "cell_type": "code",
   "execution_count": 4,
   "id": "25095dfa-bbd7-49ae-ba63-ffff7d7a7da2",
   "metadata": {},
   "outputs": [],
   "source": [
    "\n",
    "frames_folder = 'frames'\n",
    "output_video = 'combined_with_text.avi'\n",
    "\n",
    "frame_files = sorted([f for f in os.listdir(frames_folder) if f.endswith('.jpg')])\n",
    "first_frame = cv2.imread(os.path.join(frames_folder, frame_files[0]))\n",
    "height, width, _ = first_frame.shape\n",
    "\n",
    "fourcc = cv2.VideoWriter_fourcc(*'XVID')\n",
    "out = cv2.VideoWriter(output_video, fourcc, fps, (width, height)) \n",
    "\n",
    "for i, filename in enumerate(frame_files):\n",
    "    frame_path = os.path.join(frames_folder, filename)\n",
    "    frame = cv2.imread(frame_path)\n",
    "    cv2.putText(frame, f'Frame {i+1}', (50, 50), cv2.FONT_HERSHEY_SIMPLEX, 1, (0, 255, 0), 2)\n",
    "    cv2.putText(frame, 'moon light', (50, 100), cv2.FONT_HERSHEY_SIMPLEX, 1, (255, 255, 255), 2)\n",
    "    out.write(frame)\n",
    "\n",
    "    cv2.imshow('Writing Video', frame)\n",
    "    if cv2.waitKey(30) & 0xFF == ord('q'): \n",
    "        break\n",
    "\n",
    "out.release()\n",
    "cv2.destroyAllWindows()"
   ]
  }
 ],
 "metadata": {
  "kernelspec": {
   "display_name": "Python 3",
   "language": "python",
   "name": "python3"
  },
  "language_info": {
   "codemirror_mode": {
    "name": "ipython",
    "version": 3
   },
   "file_extension": ".py",
   "mimetype": "text/x-python",
   "name": "python",
   "nbconvert_exporter": "python",
   "pygments_lexer": "ipython3",
   "version": "3.13.3"
  }
 },
 "nbformat": 4,
 "nbformat_minor": 5
}
